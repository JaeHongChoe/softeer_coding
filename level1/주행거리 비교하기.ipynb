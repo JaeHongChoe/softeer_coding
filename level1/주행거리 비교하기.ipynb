{
 "cells": [
  {
   "cell_type": "code",
   "execution_count": null,
   "metadata": {},
   "outputs": [],
   "source": [
    "import sys\n",
    "\n",
    "\n",
    "def num1(a,b):\n",
    "\n",
    "    if a == b:\n",
    "        print(\"same\")\n",
    "    elif a > b: \n",
    "        print(\"A\")\n",
    "    else:\n",
    "        print(\"B\")\n",
    "\n",
    "a,b = map(int,input().split())\n",
    "\n",
    "num1(a,b)"
   ]
  }
 ],
 "metadata": {
  "kernelspec": {
   "display_name": "Python 3",
   "language": "python",
   "name": "python3"
  },
  "language_info": {
   "codemirror_mode": {
    "name": "ipython",
    "version": 3
   },
   "file_extension": ".py",
   "mimetype": "text/x-python",
   "name": "python",
   "nbconvert_exporter": "python",
   "pygments_lexer": "ipython3",
   "version": "3.8.5"
  }
 },
 "nbformat": 4,
 "nbformat_minor": 4
}
